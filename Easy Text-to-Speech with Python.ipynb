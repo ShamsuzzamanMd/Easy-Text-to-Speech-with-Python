{
 "cells": [
  {
   "cell_type": "markdown",
   "metadata": {},
   "source": [
    "The objective of this project is to convert Text to Sound which has been named as \"Easy Text-to-Speech\". One of the best APIs known as \"Google Text to Speech\" (gTTS) has been used with Python. "
   ]
  },
  {
   "cell_type": "code",
   "execution_count": 4,
   "metadata": {},
   "outputs": [],
   "source": [
    "#!pip install gtts\n",
    "from gtts import gTTS\n",
    "import os\n",
    "\n",
    "# text that we want to convert into audio\n",
    "file = open(\"voice.txt\", \"r\").read().replace(\"\\n\", \" \")\n",
    "language = \"en-IN\"\n",
    "\n",
    "speech = gTTS(text = str(file), lang = language, slow = False)"
   ]
  },
  {
   "cell_type": "code",
   "execution_count": 5,
   "metadata": {},
   "outputs": [
    {
     "data": {
      "text/plain": [
       "32512"
      ]
     },
     "execution_count": 5,
     "metadata": {},
     "output_type": "execute_result"
    }
   ],
   "source": [
    "speech.save(\"voice.mp3\")\n",
    "os.system(\"start voice.mp3\")"
   ]
  },
  {
   "cell_type": "code",
   "execution_count": null,
   "metadata": {},
   "outputs": [],
   "source": []
  }
 ],
 "metadata": {
  "kernelspec": {
   "display_name": "Python 3",
   "language": "python",
   "name": "python3"
  },
  "language_info": {
   "codemirror_mode": {
    "name": "ipython",
    "version": 3
   },
   "file_extension": ".py",
   "mimetype": "text/x-python",
   "name": "python",
   "nbconvert_exporter": "python",
   "pygments_lexer": "ipython3",
   "version": "3.7.3"
  }
 },
 "nbformat": 4,
 "nbformat_minor": 2
}
